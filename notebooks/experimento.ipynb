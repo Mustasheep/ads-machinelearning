{
 "cells": [
  {
   "cell_type": "markdown",
   "id": "1789bbc3",
   "metadata": {},
   "source": [
    "## Importação de Bibliotecas"
   ]
  },
  {
   "cell_type": "code",
   "execution_count": 3,
   "id": "ec13dd93",
   "metadata": {},
   "outputs": [
    {
     "name": "stdout",
     "output_type": "stream",
     "text": [
      "Bibliotecas importadas com sucesso!\n"
     ]
    }
   ],
   "source": [
    "import pandas as pd\n",
    "import numpy as np\n",
    "import matplotlib.pyplot as plt\n",
    "import seaborn as sns \n",
    "\n",
    "# Pipeline de extração e limpeza de dados\n",
    "from facebook_business.api import FacebookAdsApi\n",
    "from facebook_business.adobjects.adaccount import AdAccount\n",
    "from facebook_business.exceptions import FacebookRequestError\n",
    "import logging\n",
    "import time\n",
    "from typing import Dict, Optional\n",
    "\n",
    "# Modelos e métricas de avaliação\n",
    "from sklearn.model_selection import train_test_split\n",
    "from sklearn.linear_model import LinearRegression\n",
    "from sklearn.metrics import mean_absolute_error, mean_squared_error, r2_score\n",
    "\n",
    "# ignorando avisos\n",
    "import warnings\n",
    "warnings.filterwarnings(\"ignore\")\n",
    "\n",
    "print('Bibliotecas importadas com sucesso!')"
   ]
  },
  {
   "cell_type": "markdown",
   "id": "e474bf7b",
   "metadata": {},
   "source": [
    "---\n",
    "\n",
    "### Pipeline de Extração e Transformação de Dados do Meta Ads\n",
    "\n",
    "Será executado um **pipeline de extração e transformação de dados** do Meta Ads, desenvolvido para coletar informações por meio de sua API. Este pipeline emprega **variáveis constantes** essenciais para o projeto, garantindo a consistência e a integridade dos dados extraídos.\n",
    "\n",
    "Embora o pipeline seja arquitetado para a **extração assíncrona de dados de múltiplas contas**, para os propósitos deste projeto, a extração será **restrita aos dados de uma única conta**. Esta abordagem visa a centralização e otimização da análise para o escopo definido.\n",
    "\n",
    "---\n",
    "\n",
    "### Detalhes da Extração de Dados do Meta Ads\n",
    "\n",
    "A extração de dados do Meta Ads será focada nas seguintes métricas, essenciais para a nossa análise:\n",
    "\n",
    "* **`campaign_name`**: Nome da campanha.\n",
    "* **`spend`**: Gasto total na campanha.\n",
    "* **`inline_link_clicks`**: Número de cliques no link interno.\n",
    "* **`reach`**: Alcance único da campanha.\n",
    "* **`impressions`**: Número total de impressões.\n",
    "* **`ctr`**: Taxa de cliques (Click-Through Rate).\n",
    "* **`cpc`**: Custo por clique (Cost Per Click).\n",
    "\n",
    "A estrutura hierárquica do Meta Ads, que se organiza em Campanha (nível superior), Conjuntos de Anúncios (segmentação) e Anúncios (nível mais granular), direciona nossa estratégia de extração. Para este projeto, os dados serão extraídos a partir do **nível de Conjunto de Anúncios (`adset`)**.\n",
    "\n",
    "As configurações de extração são as seguintes:\n",
    "\n",
    "* **`level`**: `adset` (conjunto de anúncios)\n",
    "* **`date_preset`**: `last_90d` (últimos 90 dias)\n",
    "* **`time_increment`**: `1` (incremento diário, garantindo granularidade)\n",
    "* **`limit`**: `2000` (limite de 2000 dados para assegurar uma extração completa)\n",
    "\n",
    "_Os dados sensíveis foram previamente sensurados._"
   ]
  },
  {
   "cell_type": "code",
   "execution_count": 14,
   "id": "26bfada6",
   "metadata": {},
   "outputs": [
    {
     "name": "stderr",
     "output_type": "stream",
     "text": [
      "2025-06-15 11:39:45 - INFO - API do Meta Ads inicializada com sucesso!\n",
      "2025-06-15 11:39:45 - INFO - Iniciando 1 jobs de extração assíncrona.\n"
     ]
    },
    {
     "name": "stderr",
     "output_type": "stream",
     "text": [
      "2025-06-15 11:39:49 - INFO - --> Job para 'Confidencial' iniciado.\n",
      "2025-06-15 11:40:36 - INFO -   [SUCESSO] Job para 'Confidencial' concluído. 925 registros obtidos.\n",
      "2025-06-15 11:40:36 - INFO - Todos os dados dos clientes foram consolidados com sucesso.\n",
      "2025-06-15 11:40:36 - INFO - Iniciando pós-processamento do DataFrame consolidado...\n",
      "2025-06-15 11:40:36 - INFO - Colunas métricas convertidas para formato numérico.\n",
      "2025-06-15 11:40:36 - INFO - Valores nulos em colunas numéricas preenchidos com 0.\n",
      "2025-06-15 11:40:36 - INFO - Valores nulos em colunas de texto preenchidos com ''.\n",
      "2025-06-15 11:40:36 - INFO - Relatório consolidado e processado salvo em: relatorio_consolidado_clientes.csv\n",
      "2025-06-15 11:40:36 - INFO - Pipeline concluído!\n"
     ]
    }
   ],
   "source": [
    "# Configuração do logging\n",
    "logging.basicConfig(\n",
    "    level=logging.INFO,\n",
    "    format='%(asctime)s - %(levelname)s - %(message)s',\n",
    "    datefmt='%Y-%m-%d %H:%M:%S'\n",
    ")\n",
    "\n",
    "# Bloco para carregar credenciais com segurança\n",
    "try:\n",
    "    import my_secrets as credential\n",
    "except ImportError:\n",
    "    logging.error(\"Arquivo de credenciais 'my_secrets.py' não encontrado.\")\n",
    "    exit()\n",
    "\n",
    "# --- ETAPA 1: CONFIGURAÇÃO ---\n",
    "\n",
    "def inicializar_api():\n",
    "    \"\"\"Inicializa a API do Facebook. Encerra o script em caso de falha.\"\"\"\n",
    "    try:\n",
    "        FacebookAdsApi.init(\n",
    "            app_id=credential.APP_ID,\n",
    "            app_secret=credential.APP_SECRET,\n",
    "            access_token=credential.ACCESS_TOKEN\n",
    "        )\n",
    "        logging.info(\"API do Meta Ads inicializada com sucesso!\")\n",
    "        return True\n",
    "    except Exception as e:\n",
    "        logging.critical(f\"Erro fatal ao inicializar a API: {e}\")\n",
    "        return False\n",
    "\n",
    "# Definição dos campos e parâmetros (constantes)\n",
    "INSIGHT_FIELDS = [\n",
    "    'campaign_name',\n",
    "    'spend',\n",
    "    'inline_link_clicks',\n",
    "    'reach',\n",
    "    'impressions',\n",
    "    'ctr',\n",
    "    'cpc',\n",
    "]\n",
    "\n",
    "INSIGHT_PARAMS = {\n",
    "    'level': 'adset',\n",
    "    'date_preset': 'last_90d',\n",
    "    'time_increment': '1',\n",
    "    'limit': 2000\n",
    "}\n",
    "\n",
    "# --- ETAPA 2: EXTRAÇÃO ASSÍNCRONA ---\n",
    "\n",
    "def extrair_insights_de_multiplas_contas(mapa_clientes: Dict[str, str]) -> Optional[pd.DataFrame]:\n",
    "    \"\"\"\n",
    "    Inicia requisições assíncronas para buscar insights de múltiplas contas,\n",
    "    aguarda a conclusão e consolida os resultados em um único DataFrame.\n",
    "    \"\"\"\n",
    "    jobs = []\n",
    "    logging.info(f\"Iniciando {len(mapa_clientes)} jobs de extração assíncrona.\")\n",
    "\n",
    "    for nome_cliente, ad_account_id in mapa_clientes.items():\n",
    "        try:\n",
    "            account = AdAccount(fbid=ad_account_id)\n",
    "            async_job = account.get_insights(fields=INSIGHT_FIELDS, params=INSIGHT_PARAMS, is_async=True)\n",
    "            jobs.append({'job': async_job, 'nome_cliente': nome_cliente})\n",
    "            logging.info(f\"--> Job para '{nome_cliente}' iniciado.\")\n",
    "        except FacebookRequestError as e:\n",
    "            logging.error(f\"Erro ao iniciar job para '{nome_cliente}': {e.api_error_message()}\")\n",
    "\n",
    "    insights_por_cliente = []\n",
    "    active_jobs = list(jobs)\n",
    "    while active_jobs:\n",
    "        time.sleep(5) \n",
    "        remaining_jobs = []\n",
    "        for job_info in active_jobs:\n",
    "            job = job_info['job']\n",
    "            nome_cliente = job_info['nome_cliente']\n",
    "            \n",
    "            try:\n",
    "                job.api_get() \n",
    "                status = job['async_status']\n",
    "                \n",
    "                if status == 'Job Completed':\n",
    "                    insights_cursor = job.get_result()\n",
    "                    insights_list = [dict(insight) for insight in insights_cursor]\n",
    "                    \n",
    "                    if insights_list:\n",
    "                        df_cliente = pd.DataFrame(insights_list)\n",
    "                        df_cliente['nome_cliente'] = nome_cliente\n",
    "                        insights_por_cliente.append(df_cliente)\n",
    "                        logging.info(f\"  [SUCESSO] Job para '{nome_cliente}' concluído. {len(df_cliente)} registros obtidos.\")\n",
    "                    else:\n",
    "                        logging.warning(f\"  [AVISO] Job para '{nome_cliente}' concluído, mas sem dados.\")\n",
    "                \n",
    "                elif status in ['Job Failed', 'Job Skipped']:\n",
    "                    logging.error(f\"  [FALHA] Job para '{nome_cliente}' falhou com status: {status}. Causa: {job.get('async_percent_completion', 'N/A')}\")\n",
    "                \n",
    "                else: \n",
    "                    remaining_jobs.append(job_info)\n",
    "                    \n",
    "            except FacebookRequestError as e:\n",
    "                logging.error(f\"  [ERRO API] Erro ao verificar status do job para '{nome_cliente}': {e.api_error_message()}\")\n",
    "            except Exception as e:\n",
    "                logging.error(f\"  [ERRO INESPERADO] Ocorreu um erro com o job de '{nome_cliente}': {e}\")\n",
    "        \n",
    "        active_jobs = remaining_jobs\n",
    "            \n",
    "    if not insights_por_cliente:\n",
    "        logging.warning(\"Nenhum dado foi extraído de nenhuma conta.\")\n",
    "        return None\n",
    "\n",
    "    df_consolidado = pd.concat(insights_por_cliente, ignore_index=True)\n",
    "    logging.info(\"Todos os dados dos clientes foram consolidados com sucesso.\")\n",
    "    return df_consolidado\n",
    "\n",
    "\n",
    "# --- ETAPA 3: PÓS-PROCESSAMENTO AVANÇADO ---\n",
    "\n",
    "def processar_e_salvar(df: pd.DataFrame, caminho_saida: str):\n",
    "    \"\"\"\n",
    "    Realiza a limpeza, transforma a coluna 'actions' e salva o DataFrame final.\n",
    "    \"\"\"\n",
    "    if df is None or df.empty:\n",
    "        logging.warning(\"DataFrame vazio. Nada para processar ou salvar.\")\n",
    "        return\n",
    "\n",
    "    logging.info(\"Iniciando pós-processamento do DataFrame consolidado...\")\n",
    "\n",
    "    # Conversão de tipos de dados\n",
    "    cols_to_numeric = [\n",
    "        'spend', 'inline_link_clicks', 'impressions', \n",
    "        'ctr', 'cpc', 'reach'\n",
    "    ]\n",
    "    action_cols = [col for col in df.columns if col.startswith('action_')]\n",
    "    cols_to_numeric.extend(action_cols)\n",
    "\n",
    "    for col in cols_to_numeric:\n",
    "        if col in df.columns:\n",
    "            df[col] = pd.to_numeric(df[col], errors='coerce')\n",
    "    logging.info(\"Colunas métricas convertidas para formato numérico.\")\n",
    "\n",
    "    # Tratamento de Valores Nulos\n",
    "    numeric_cols = df.select_dtypes(include=np.number).columns\n",
    "    df[numeric_cols] = df[numeric_cols].fillna(0)\n",
    "    logging.info(\"Valores nulos em colunas numéricas preenchidos com 0.\")\n",
    "\n",
    "    string_cols = df.select_dtypes(include='object').columns\n",
    "    df[string_cols] = df[string_cols].fillna('')\n",
    "    logging.info(\"Valores nulos em colunas de texto preenchidos com ''.\")\n",
    "\n",
    "    # Reordenação de colunas para melhor visualização (usando principais constantes)\n",
    "    primeiras_colunas = [\n",
    "        'nome_cliente', 'date_start', 'date_stop', 'campaign_name', \n",
    "        'adset_name', 'ad_name'\n",
    "    ]\n",
    "    primeiras_colunas_existentes = [col for col in primeiras_colunas if col in df.columns]\n",
    "    outras_colunas = [col for col in df.columns if col not in primeiras_colunas_existentes]\n",
    "    df = df[primeiras_colunas_existentes + outras_colunas]\n",
    "\n",
    "    # Salvar o arquivo final em CSV\n",
    "    try:\n",
    "        df.to_csv(caminho_saida, index=False, encoding='utf-8-sig')\n",
    "        logging.info(f\"Relatório consolidado e processado salvo em: {caminho_saida}\")\n",
    "    except Exception as e:\n",
    "        logging.error(f\"Não foi possível salvar o arquivo CSV: {e}\")\n",
    "\n",
    "# --- FUNÇÃO PRINCIPAL ---\n",
    "\n",
    "def main():\n",
    "    \"\"\"Função principal que orquestra todo o pipeline.\"\"\"\n",
    "    if not inicializar_api():\n",
    "        return\n",
    "\n",
    "    ARQUIVO_SAIDA = \"relatorio_consolidado_clientes.csv\"\n",
    "    try:\n",
    "        MAPA_DE_CLIENTES = credential.MAPA_DE_CLIENTES\n",
    "    except AttributeError:\n",
    "        logging.error(\"A variável 'MAPA_DE_CLIENTES' não foi encontrada no seu arquivo 'my_credentials.py'.\")\n",
    "        return\n",
    "\n",
    "    df_final = extrair_insights_de_multiplas_contas(MAPA_DE_CLIENTES)\n",
    "    processar_e_salvar(df_final, ARQUIVO_SAIDA)\n",
    "\n",
    "    logging.info(\"Pipeline concluído!\")\n",
    "\n",
    "if __name__ == \"__main__\":\n",
    "    main()\n"
   ]
  },
  {
   "cell_type": "code",
   "execution_count": 6,
   "id": "3d7388e7",
   "metadata": {},
   "outputs": [
    {
     "name": "stdout",
     "output_type": "stream",
     "text": [
      "<class 'pandas.core.frame.DataFrame'>\n",
      "RangeIndex: 925 entries, 0 to 924\n",
      "Data columns (total 11 columns):\n",
      " #   Column              Non-Null Count  Dtype  \n",
      "---  ------              --------------  -----  \n",
      " 0   nome_cliente        925 non-null    object \n",
      " 1   date_start          925 non-null    object \n",
      " 2   date_stop           925 non-null    object \n",
      " 3   campaign_name       925 non-null    object \n",
      " 4   spend               925 non-null    float64\n",
      " 5   inline_link_clicks  925 non-null    float64\n",
      " 6   reach               925 non-null    int64  \n",
      " 7   impressions         925 non-null    int64  \n",
      " 8   ctr                 925 non-null    float64\n",
      " 9   cpc                 925 non-null    float64\n",
      " 10  account_id          925 non-null    int64  \n",
      "dtypes: float64(4), int64(3), object(4)\n",
      "memory usage: 79.6+ KB\n"
     ]
    }
   ],
   "source": [
    "df = pd.read_csv('relatorio_consolidado_clientes.csv')\n",
    "df.info()"
   ]
  },
  {
   "cell_type": "code",
   "execution_count": 8,
   "id": "f4f5b961",
   "metadata": {},
   "outputs": [
    {
     "data": {
      "text/plain": [
       "campaign_name\n",
       "5. CONVERSÃO - RESERVAS TAGME                           360\n",
       "1. TRÁFEGO IFOOD                                        136\n",
       "3. ALCANCE                                              108\n",
       "2. TRÁFEGO - VISITA PARA INSTAGRAM                       83\n",
       "4. ENGAJAMENTO                                           79\n",
       "Instagram Post                                           33\n",
       "ENGAJAMENTO WHATSAPP | Encomendas (Páscoa)               25\n",
       "Publicação do Instagram: RODÍZIO DE FRUTOS DO MAR...     22\n",
       "Instagram post: PARAÍSO DOS CAMARÕES COM...              13\n",
       "Instagram post: Venha conhecer o nosso Delicioso...       7\n",
       "Name: campaign_name, dtype: int64"
      ]
     },
     "execution_count": 8,
     "metadata": {},
     "output_type": "execute_result"
    }
   ],
   "source": [
    "df['campaign_name'].groupby(df['campaign_name']).count().sort_values(ascending=False).head(10)"
   ]
  },
  {
   "cell_type": "markdown",
   "id": "33b7dbc1",
   "metadata": {},
   "source": [
    "### Seleção da Campanha e Definição do Modelo Preditivo\n",
    "\n",
    "Para otimizar a precisão da nossa análise, focaremos exclusivamente na campanha com **objetivo de conversão via Tagme**. Nosso objetivo é realizar uma **previsão centralizada** dos dados dessa campanha específica.\n",
    "\n",
    "Para tal, empregaremos um modelo de **regressão linear**, utilizando as variáveis **`gasto`** e **`impressoes`** como *features* para treinar o modelo. O **`numero de cliques`** será a nossa variável alvo, que buscaremos prever com a maior acurácia possível.\n",
    "\n",
    "Após essa etapa de seleção e definição, prosseguiremos com a implementação e treinamento do modelo de regressão linear para gerar as previsões desejadas."
   ]
  },
  {
   "cell_type": "code",
   "execution_count": 9,
   "id": "5da2b95a",
   "metadata": {},
   "outputs": [
    {
     "name": "stdout",
     "output_type": "stream",
     "text": [
      "Tamanho do conjunto de treino (X): (288, 2)\n",
      "Tamanho do conjunto de teste (X): (72, 2)\n",
      "\n",
      "Modelo de Regressão Linear treinado com sucesso!\n"
     ]
    }
   ],
   "source": [
    "# --- PREPARAR OS DADOS ---\n",
    "\n",
    "df_tagme = df[df['campaign_name'].str.contains('Conversão - Reservas Tagme', case=False, na=False)]\n",
    "df_modelo = df_tagme[['campaign_name', 'spend', 'impressions', 'inline_link_clicks']]\n",
    "\n",
    "df_modelo.rename(columns={\n",
    "    'campaign_name': 'nome campanha',\n",
    "    'spend': 'gasto',\n",
    "    'impressions': 'impressoes',\n",
    "    'inline_link_clicks': 'numero de cliques'\n",
    "}, inplace=True)\n",
    "\n",
    "# --- DEFININDO FEATURE (X) E ALVO (y) ---\n",
    "\n",
    "X = df_modelo[['gasto', 'impressoes']]\n",
    "y = df_modelo['numero de cliques']\n",
    "\n",
    "# --- DIVIDIR OS DADOS EM TREINO E TESTE ---\n",
    "\n",
    "X_treino, X_teste, y_treino, y_teste = train_test_split(X, y, test_size=0.2, random_state=42)\n",
    "\n",
    "print(\"Tamanho do conjunto de treino (X):\", X_treino.shape)\n",
    "print(\"Tamanho do conjunto de teste (X):\", X_teste.shape)\n",
    "\n",
    "\n",
    "# --- TREINAR O MODELO ---\n",
    "\n",
    "modelo = LinearRegression()\n",
    "modelo.fit(X_treino, y_treino)\n",
    "\n",
    "print(\"\\nModelo de Regressão Linear treinado com sucesso!\")"
   ]
  },
  {
   "cell_type": "code",
   "execution_count": 10,
   "id": "063646d5",
   "metadata": {},
   "outputs": [
    {
     "name": "stdout",
     "output_type": "stream",
     "text": [
      "--- Métricas de Avaliação do Modelo ---\n",
      "Erro Absoluto Médio (MAE): 14.51 cliques\n",
      "Erro Quadrático Médio (MSE): 439.04\n",
      "Raiz do Erro Quadrático Médio (RMSE): 20.95 cliques\n",
      "Coeficiente de Determinação (R²): 0.80\n"
     ]
    },
    {
     "data": {
      "image/png": "[encoded data removed]",
      "text/plain": [
       "<Figure size 800x600 with 1 Axes>"
      ]
     },
     "metadata": {},
     "output_type": "display_data"
    }
   ],
   "source": [
    "# --- FAZENDO PREVISÕES ---\n",
    "y_pred = modelo.predict(X_teste)\n",
    "\n",
    "# --- AVALIANDO O MODELO ---\n",
    "mae = mean_absolute_error(y_teste, y_pred)\n",
    "mse = mean_squared_error(y_teste, y_pred)\n",
    "rmse = np.sqrt(mse)\n",
    "r2 = r2_score(y_teste, y_pred)\n",
    "\n",
    "print(f\"--- Métricas de Avaliação do Modelo ---\")\n",
    "print(f\"Erro Absoluto Médio (MAE): {mae:.2f} cliques\")\n",
    "print(f\"Erro Quadrático Médio (MSE): {mse:.2f}\")\n",
    "print(f\"Raiz do Erro Quadrático Médio (RMSE): {rmse:.2f} cliques\")\n",
    "print(f\"Coeficiente de Determinação (R²): {r2:.2f}\")\n",
    "\n",
    "# --- AVALIAÇÃO VISUAL ---\n",
    "plt.figure(figsize=(8, 6))\n",
    "sns.scatterplot(x=y_teste, y=y_pred)\n",
    "plt.xlabel(\"Valores Reais (y_teste)\")\n",
    "plt.ylabel(\"Valores Previstos (y_pred)\")\n",
    "plt.title(\"Valores Reais vs. Valores Previstos\", fontweight='bold')\n",
    "\n",
    "plt.plot([min(y_teste), max(y_teste)], [min(y_teste), max(y_teste)], color='red', linestyle='--')\n",
    "plt.grid(True)\n",
    "plt.show()"
   ]
  },
  {
   "cell_type": "markdown",
   "id": "a4749695",
   "metadata": {},
   "source": [
    "### Métricas de Avaliação do Modelo\n",
    "Erro Absoluto Médio (MAE - Mean Absolute Error) é a média da diferença absoluta entre os valores reais e os previstos. Sendo assim, nosso modelo erra em média apenas 14 cliques, o que é muito bom se compararmos com a quantidade de valores de treino.\n",
    "\n",
    "O Erro Quadrático Médio (MSE) é a média dos quadrados das diferenças. Ele penaliza erros maiores com mais força. É menos intuitivo porque a unidade está ao quadrado. Com isso, usamos o RMSE que é a raz quadrada do MSE, ou seja, a unidade volta a ser a original (ex: 'cliques'), tornando mais interpretável e similar ao MAE. A ideia é a mesma, e nosso modelo erra em média 18 cliques, o que continua excelente.\n",
    "\n",
    "\n",
    "Coeficiente de Determinação (R2 - R-squared) mede a proporção da variação na variável alvo y (cliques link interno) que pode ser explicada pelas features X (impressões e gasto). O valor vai de 0 a 1 (ou pode ser negativo para modelos muito ruins).\n",
    "\n",
    "**➥ Interpretação:** Um R2 de 0.85 significa que 85% da variação no número de cliques pode ser explicada pelo nosso modelo (usando gasto e impressões).\n",
    "\n",
    "### Análise Gráfica da Performance do Modelo\n",
    "A análise do gráfico de dispersão revela uma linearidade proeminente dos dados em relação à linha de referência tracejada. Essa observação indica um ajuste robusto do modelo, demonstrando sua eficácia na predição do valor alvo (y). A proximidade dos pontos de dados à linha de referência corrobora a alta performance preditiva do modelo atual.\n",
    "\n",
    "Com o objetivo de otimizar ainda mais a precisão das previsões, será implementado um modelo preditivo mais robusto. Essa etapa visa aprimorar os resultados obtidos e finalizar o experimento com uma solução otimizada."
   ]
  },
  {
   "cell_type": "code",
   "execution_count": 11,
   "id": "704aa656",
   "metadata": {},
   "outputs": [
    {
     "name": "stdout",
     "output_type": "stream",
     "text": [
      "Modelo Random Forest treinado com sucesso!\n",
      "\n",
      "--- Métricas de Avaliação do Random Forest ---\n",
      "Erro Absoluto Médio (MAE): 14.85 cliques\n",
      "Coeficiente de Determinação (R²): 0.83\n"
     ]
    }
   ],
   "source": [
    "from sklearn.ensemble import RandomForestRegressor\n",
    "# O resto dos seus imports continua o mesmo\n",
    "\n",
    "# --- PREPARAÇÃO E DIVISÃO DOS DADOS (igual antes) ---\n",
    "# ... (código para carregar, preparar e dividir X e y) ...\n",
    "\n",
    "# --- TREINANDO O MODELO RANDOM FOREST ---\n",
    "# A única mudança é nesta linha!\n",
    "rf_modelo = RandomForestRegressor(n_estimators=100, \n",
    "                                  random_state=42, \n",
    "                                  n_jobs=-1)\n",
    "# n_estimators=100: cria 100 árvores na floresta.\n",
    "# random_state=42: para reprodutibilidade.\n",
    "# n_jobs=-1: usa todos os processadores disponíveis para acelerar o treinamento.\n",
    "\n",
    "# O processo de treino é idêntico\n",
    "rf_modelo.fit(X_treino, y_treino)\n",
    "print(\"Modelo Random Forest treinado com sucesso!\")\n",
    "\n",
    "# --- AVALIAÇÃO (igual antes) ---\n",
    "y_pred_rf = rf_modelo.predict(X_teste)\n",
    "\n",
    "r2_rf = r2_score(y_teste, y_pred_rf)\n",
    "mae_rf = mean_absolute_error(y_teste, y_pred_rf)\n",
    "\n",
    "print(f\"\\n--- Métricas de Avaliação do Random Forest ---\")\n",
    "print(f\"Erro Absoluto Médio (MAE): {mae_rf:.2f} cliques\")\n",
    "print(f\"Coeficiente de Determinação (R²): {r2_rf:.2f}\")"
   ]
  },
  {
   "cell_type": "markdown",
   "id": "a8d1d857",
   "metadata": {},
   "source": [
    "---\n",
    "\n",
    "### Avaliação do Modelo Random Forest e Implicações para a Campanha de Conversão\n",
    "\n",
    "A execução do modelo **Random Forest** para a campanha de conversão sugere uma **relação predominantemente linear** entre as variáveis **gasto/impressões** e o **número de cliques**.\n",
    "\n",
    "Verificou-se que a complexidade inerente ao algoritmo Random Forest não resultou em um ganho significativo no poder preditivo. Isso indica que a **Regressão Linear**, um modelo mais simples e com maior facilidade de interpretação, já se mostra **altamente eficaz e suficiente** para realizar as previsões nesta campanha específica. A escolha por um modelo mais parcimonioso, como a Regressão Linear, otimiza a interpretabilidade sem comprometer a acurácia para este cenário.\n",
    "\n",
    "---"
   ]
  },
  {
   "cell_type": "code",
   "execution_count": 12,
   "id": "c08dfa80",
   "metadata": {},
   "outputs": [
    {
     "name": "stdout",
     "output_type": "stream",
     "text": [
      "\n",
      "--- Importância das Features ---\n",
      "      feature  importancia\n",
      "0       gasto      0.86051\n",
      "1  impressoes      0.13949\n"
     ]
    },
    {
     "data": {
      "image/png": "[encoded data removed]",
      "text/plain": [
       "<Figure size 640x480 with 1 Axes>"
      ]
     },
     "metadata": {},
     "output_type": "display_data"
    }
   ],
   "source": [
    "# Pega a importância de cada feature do modelo treinado\n",
    "importancias = rf_modelo.feature_importances_\n",
    "features = X_treino.columns\n",
    "\n",
    "# Cria um DataFrame para visualizar melhor\n",
    "df_importancias = pd.DataFrame({'feature': features, 'importancia': importancias})\n",
    "df_importancias = df_importancias.sort_values('importancia', ascending=False)\n",
    "\n",
    "print(\"\\n--- Importância das Features ---\")\n",
    "print(df_importancias)\n",
    "\n",
    "# Visualizando com um gráfico de barras\n",
    "ax = sns.barplot(x='importancia',\n",
    "                 y='feature', \n",
    "                 data=df_importancias, \n",
    "                 palette='viridis', \n",
    "                 hue='feature', \n",
    "                 legend=False)\n",
    "\n",
    "plt.title('Importância de Cada Feature para o Modelo')\n",
    "plt.ylabel('')\n",
    "plt.show()"
   ]
  },
  {
   "cell_type": "markdown",
   "id": "0cbabffb",
   "metadata": {},
   "source": [
    "Em uma **campanha de conversão**, como a de reservas, o algoritmo da Meta opera de forma mais sofisticada. Ele é projetado para identificar e alcançar usuários com alta probabilidade de realizar a ação desejada. Nesse cenário, o investimento (`gasto`) emerge como a alavanca principal para impulsionar os resultados.\n",
    "\n",
    "Com base nos dados analisados para esta campanha específica, comprovamos que o **investimento direto é, de fato, o motor principal para a geração de resultados**. Isso ocorre porque, quanto maior o investimento, mais o algoritmo da Meta consegue atuar dentro desse grupo seleto e qualificado de pessoas, gerando cliques de maior valor que se traduzem em conversões efetivas."
   ]
  }
 ],
 "metadata": {
  "kernelspec": {
   "display_name": ".venv",
   "language": "python",
   "name": "python3"
  },
  "language_info": {
   "codemirror_mode": {
    "name": "ipython",
    "version": 3
   },
   "file_extension": ".py",
   "mimetype": "text/x-python",
   "name": "python",
   "nbconvert_exporter": "python",
   "pygments_lexer": "ipython3",
   "version": "3.13.4"
  }
 },
 "nbformat": 4,
 "nbformat_minor": 5
}
