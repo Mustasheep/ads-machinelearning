{
 "cells": [
  {
   "cell_type": "markdown",
   "id": "1789bbc3",
   "metadata": {},
   "source": [
    "### Importação de Bibliotecas"
   ]
  },
  {
   "cell_type": "code",
   "execution_count": 17,
   "id": "ec13dd93",
   "metadata": {},
   "outputs": [
    {
     "name": "stdout",
     "output_type": "stream",
     "text": [
      "Bibliotecas importadas com sucesso!\n"
     ]
    }
   ],
   "source": [
    "import pandas as pd\n",
    "import numpy as np\n",
    "import matplotlib.pyplot as plt\n",
    "import seaborn as sns \n",
    "\n",
    "# Modelos e métricas de avaliação\n",
    "from sklearn.model_selection import train_test_split\n",
    "from sklearn.linear_model import LinearRegression\n",
    "from sklearn.metrics import mean_absolute_error, mean_squared_error, r2_score\n",
    "\n",
    "# ignorando avisos\n",
    "import warnings\n",
    "warnings.filterwarnings(\"ignore\")\n",
    "\n",
    "print('Bibliotecas importadas com sucesso!')"
   ]
  },
  {
   "cell_type": "markdown",
   "id": "e474bf7b",
   "metadata": {},
   "source": [
    "### Pipeline de Extração e Transformação\n",
    "\n",
    "Foi executado um **pipeline de extração e transformação de dados**, desenvolvido para coletar informações por meio da API do Meta. Este pipeline emprega **variáveis constantes** essenciais para o projeto, garantindo a consistência e a integridade dos dados extraídos.\n",
    "\n",
    "Embora o pipeline seja arquitetado para a **extração assíncrona de dados de múltiplas contas**, para os propósitos deste projeto, a extração foi **restrita aos dados de uma única conta**. Esta abordagem visa a centralização e otimização da análise para o escopo definido.\n",
    "\n",
    "### Detalhes da Extração de Dados\n",
    "\n",
    "A extração de dados do Meta Ads foi focada nas seguintes métricas, essenciais para a nossa análise:\n",
    "\n",
    "* **`campaign_name`**: Nome da campanha.\n",
    "* **`spend`**: Gasto total na campanha.\n",
    "* **`inline_link_clicks`**: Número de cliques no link interno.\n",
    "* **`reach`**: Alcance único da campanha.\n",
    "* **`impressions`**: Número total de impressões.\n",
    "* **`ctr`**: Taxa de cliques (Click-Through Rate).\n",
    "* **`cpc`**: Custo por clique (Cost Per Click).\n",
    "\n",
    "A estrutura hierárquica do Meta Ads, que se organiza em Campanha (nível superior), Conjuntos de Anúncios (segmentação) e Anúncios (nível mais granular), direciona nossa estratégia de extração. Para este projeto, os dados serão extraídos a partir do **nível de Conjunto de Anúncios (`adset`)**.\n",
    "\n",
    "As configurações de extração são as seguintes:\n",
    "\n",
    "* **`level`**: `adset` (conjunto de anúncios)\n",
    "* **`date_preset`**: `last_90d` (últimos 90 dias)\n",
    "* **`time_increment`**: `1` (incremento diário, garantindo granularidade)\n",
    "* **`limit`**: `2000` (limite de 2000 dados para assegurar uma extração completa)\n",
    "\n",
    "_Os dados sensíveis foram previamente sensurados._"
   ]
  },
  {
   "cell_type": "code",
   "execution_count": 30,
   "id": "3d7388e7",
   "metadata": {},
   "outputs": [
    {
     "name": "stdout",
     "output_type": "stream",
     "text": [
      "<class 'pandas.core.frame.DataFrame'>\n",
      "RangeIndex: 925 entries, 0 to 924\n",
      "Data columns (total 11 columns):\n",
      " #   Column              Non-Null Count  Dtype  \n",
      "---  ------              --------------  -----  \n",
      " 0   nome_cliente        925 non-null    object \n",
      " 1   date_start          925 non-null    object \n",
      " 2   date_stop           925 non-null    object \n",
      " 3   campaign_name       925 non-null    object \n",
      " 4   spend               925 non-null    float64\n",
      " 5   inline_link_clicks  925 non-null    float64\n",
      " 6   reach               925 non-null    int64  \n",
      " 7   impressions         925 non-null    int64  \n",
      " 8   ctr                 925 non-null    float64\n",
      " 9   cpc                 925 non-null    float64\n",
      " 10  account_id          925 non-null    int64  \n",
      "dtypes: float64(4), int64(3), object(4)\n",
      "memory usage: 79.6+ KB\n"
     ]
    },
    {
     "data": {
      "text/html": [
       "<div>\n",
       "<style scoped>\n",
       "    .dataframe tbody tr th:only-of-type {\n",
       "        vertical-align: middle;\n",
       "    }\n",
       "\n",
       "    .dataframe tbody tr th {\n",
       "        vertical-align: top;\n",
       "    }\n",
       "\n",
       "    .dataframe thead th {\n",
       "        text-align: right;\n",
       "    }\n",
       "</style>\n",
       "<table border=\"1\" class=\"dataframe\">\n",
       "  <thead>\n",
       "    <tr style=\"text-align: right;\">\n",
       "      <th></th>\n",
       "      <th>nome_cliente</th>\n",
       "      <th>date_start</th>\n",
       "      <th>date_stop</th>\n",
       "      <th>campaign_name</th>\n",
       "      <th>spend</th>\n",
       "      <th>inline_link_clicks</th>\n",
       "      <th>reach</th>\n",
       "      <th>impressions</th>\n",
       "      <th>ctr</th>\n",
       "      <th>cpc</th>\n",
       "      <th>account_id</th>\n",
       "    </tr>\n",
       "  </thead>\n",
       "  <tbody>\n",
       "    <tr>\n",
       "      <th>0</th>\n",
       "      <td>Confidencial</td>\n",
       "      <td>2025-03-17</td>\n",
       "      <td>2025-03-17</td>\n",
       "      <td>1. TRÁFEGO IFOOD</td>\n",
       "      <td>19.60</td>\n",
       "      <td>122.0</td>\n",
       "      <td>4127</td>\n",
       "      <td>4508</td>\n",
       "      <td>3.948536</td>\n",
       "      <td>0.110112</td>\n",
       "      <td>981368493179610</td>\n",
       "    </tr>\n",
       "    <tr>\n",
       "      <th>1</th>\n",
       "      <td>Confidencial</td>\n",
       "      <td>2025-03-17</td>\n",
       "      <td>2025-03-17</td>\n",
       "      <td>1. TRÁFEGO IFOOD</td>\n",
       "      <td>19.53</td>\n",
       "      <td>140.0</td>\n",
       "      <td>4097</td>\n",
       "      <td>4532</td>\n",
       "      <td>4.214475</td>\n",
       "      <td>0.102251</td>\n",
       "      <td>981368493179610</td>\n",
       "    </tr>\n",
       "    <tr>\n",
       "      <th>2</th>\n",
       "      <td>Confidencial</td>\n",
       "      <td>2025-03-17</td>\n",
       "      <td>2025-03-17</td>\n",
       "      <td>5. CONVERSÃO - RESERVAS TAGME</td>\n",
       "      <td>21.51</td>\n",
       "      <td>157.0</td>\n",
       "      <td>1472</td>\n",
       "      <td>2829</td>\n",
       "      <td>6.362672</td>\n",
       "      <td>0.119500</td>\n",
       "      <td>981368493179610</td>\n",
       "    </tr>\n",
       "    <tr>\n",
       "      <th>3</th>\n",
       "      <td>Confidencial</td>\n",
       "      <td>2025-03-17</td>\n",
       "      <td>2025-03-17</td>\n",
       "      <td>5. CONVERSÃO - RESERVAS TAGME</td>\n",
       "      <td>21.82</td>\n",
       "      <td>130.0</td>\n",
       "      <td>1608</td>\n",
       "      <td>2681</td>\n",
       "      <td>5.669526</td>\n",
       "      <td>0.143553</td>\n",
       "      <td>981368493179610</td>\n",
       "    </tr>\n",
       "    <tr>\n",
       "      <th>4</th>\n",
       "      <td>Confidencial</td>\n",
       "      <td>2025-03-17</td>\n",
       "      <td>2025-03-17</td>\n",
       "      <td>5. CONVERSÃO - RESERVAS TAGME</td>\n",
       "      <td>14.65</td>\n",
       "      <td>51.0</td>\n",
       "      <td>1362</td>\n",
       "      <td>1751</td>\n",
       "      <td>5.082810</td>\n",
       "      <td>0.164607</td>\n",
       "      <td>981368493179610</td>\n",
       "    </tr>\n",
       "  </tbody>\n",
       "</table>\n",
       "</div>"
      ],
      "text/plain": [
       "   nome_cliente  date_start   date_stop                  campaign_name  spend  \\\n",
       "0  Confidencial  2025-03-17  2025-03-17               1. TRÁFEGO IFOOD  19.60   \n",
       "1  Confidencial  2025-03-17  2025-03-17               1. TRÁFEGO IFOOD  19.53   \n",
       "2  Confidencial  2025-03-17  2025-03-17  5. CONVERSÃO - RESERVAS TAGME  21.51   \n",
       "3  Confidencial  2025-03-17  2025-03-17  5. CONVERSÃO - RESERVAS TAGME  21.82   \n",
       "4  Confidencial  2025-03-17  2025-03-17  5. CONVERSÃO - RESERVAS TAGME  14.65   \n",
       "\n",
       "   inline_link_clicks  reach  impressions       ctr       cpc       account_id  \n",
       "0               122.0   4127         4508  3.948536  0.110112  981368493179610  \n",
       "1               140.0   4097         4532  4.214475  0.102251  981368493179610  \n",
       "2               157.0   1472         2829  6.362672  0.119500  981368493179610  \n",
       "3               130.0   1608         2681  5.669526  0.143553  981368493179610  \n",
       "4                51.0   1362         1751  5.082810  0.164607  981368493179610  "
      ]
     },
     "execution_count": 30,
     "metadata": {},
     "output_type": "execute_result"
    }
   ],
   "source": [
    "df = pd.read_csv('../pipeline/relatorio_consolidado_clientes.csv')\n",
    "df.info()\n",
    "df.head()"
   ]
  },
  {
   "cell_type": "code",
   "execution_count": 27,
   "id": "f4f5b961",
   "metadata": {},
   "outputs": [
    {
     "data": {
      "text/plain": [
       "campanha\n",
       "5. CONVERSÃO - RESERVAS TAGME                           360\n",
       "1. TRÁFEGO IFOOD                                        136\n",
       "3. ALCANCE                                              108\n",
       "2. TRÁFEGO - VISITA PARA INSTAGRAM                       83\n",
       "4. ENGAJAMENTO                                           79\n",
       "Instagram Post                                           33\n",
       "ENGAJAMENTO WHATSAPP | Encomendas (Páscoa)               25\n",
       "Publicação do Instagram: RODÍZIO DE FRUTOS DO MAR...     22\n",
       "Instagram post: PARAÍSO DOS CAMARÕES COM...              13\n",
       "Instagram post: Venha conhecer o nosso Delicioso...       7\n",
       "Name: campanha, dtype: int64"
      ]
     },
     "execution_count": 27,
     "metadata": {},
     "output_type": "execute_result"
    }
   ],
   "source": [
    "df.rename(columns={\n",
    "    'nome_cliente': 'cliente',\n",
    "    'date_start': 'data inicio',\n",
    "    'date_end': 'data fim',\n",
    "    'campaign_name': 'campanha',\n",
    "    'spend': 'gasto',\n",
    "    'reach': 'alcance',\n",
    "    'impressions': 'impressoes',\n",
    "    'inline_link_clicks': 'numero de cliques'\n",
    "}, inplace=True)\n",
    "\n",
    "df['campanha'].groupby(df['campanha']).count().sort_values(ascending=False).head(10)"
   ]
  },
  {
   "cell_type": "markdown",
   "id": "33b7dbc1",
   "metadata": {},
   "source": [
    "### Seleção da Campanha e Definição do Modelo Preditivo\n",
    "\n",
    "Para otimizar a precisão da nossa análise, focaremos exclusivamente na campanha com **objetivo de conversão via Tagme**. Nosso objetivo é realizar uma **previsão centralizada** dos dados dessa campanha específica.\n",
    "\n",
    "Para tal, empregaremos um modelo de **regressão linear**, utilizando as variáveis **`gasto`** e **`impressoes`** como *features* para treinar o modelo. O **`numero de cliques`** será a nossa variável alvo, que buscaremos prever com a maior acurácia possível.\n",
    "\n",
    "Após essa etapa de seleção e definição, prosseguiremos com a implementação e treinamento do modelo de regressão linear para gerar as previsões desejadas."
   ]
  },
  {
   "cell_type": "code",
   "execution_count": 28,
   "id": "5da2b95a",
   "metadata": {},
   "outputs": [
    {
     "name": "stdout",
     "output_type": "stream",
     "text": [
      "Tamanho do conjunto de treino (X): (288, 2)\n",
      "Tamanho do conjunto de teste (X): (72, 2)\n",
      "\n",
      "Modelo de Regressão Linear treinado com sucesso!\n"
     ]
    }
   ],
   "source": [
    "# --- PREPARAR OS DADOS ---\n",
    "\n",
    "df_tagme = df[df['campanha'].str.contains('Conversão - Reservas Tagme', case=False, na=False)]\n",
    "df_modelo = df_tagme[['campanha', 'gasto', 'impressoes', 'numero de cliques']]\n",
    "\n",
    "# --- DEFININDO FEATURE (X) E ALVO (y) ---\n",
    "\n",
    "X = df_modelo[['gasto', 'impressoes']]\n",
    "y = df_modelo['numero de cliques']\n",
    "\n",
    "# --- DIVIDIR OS DADOS EM TREINO E TESTE ---\n",
    "\n",
    "X_treino, X_teste, y_treino, y_teste = train_test_split(X, y, test_size=0.2, random_state=42)\n",
    "\n",
    "print(\"Tamanho do conjunto de treino (X):\", X_treino.shape)\n",
    "print(\"Tamanho do conjunto de teste (X):\", X_teste.shape)\n",
    "\n",
    "\n",
    "# --- TREINAR O MODELO ---\n",
    "\n",
    "modelo = LinearRegression()\n",
    "modelo.fit(X_treino, y_treino)\n",
    "\n",
    "print(\"\\nModelo de Regressão Linear treinado com sucesso!\")"
   ]
  },
  {
   "cell_type": "code",
   "execution_count": 21,
   "id": "063646d5",
   "metadata": {},
   "outputs": [
    {
     "name": "stdout",
     "output_type": "stream",
     "text": [
      "--- Métricas de Avaliação do Modelo ---\n",
      "Erro Absoluto Médio (MAE): 14.51 cliques\n",
      "Erro Quadrático Médio (MSE): 439.08\n",
      "Raiz do Erro Quadrático Médio (RMSE): 20.95 cliques\n",
      "Coeficiente de Determinação (R²): 0.80\n"
     ]
    },
    {
     "data": {
      "image/png": "[encoded data removed]",
      "text/plain": [
       "<Figure size 800x600 with 1 Axes>"
      ]
     },
     "metadata": {},
     "output_type": "display_data"
    }
   ],
   "source": [
    "# --- FAZENDO PREVISÕES ---\n",
    "y_pred = modelo.predict(X_teste)\n",
    "\n",
    "# --- AVALIANDO O MODELO ---\n",
    "mae = mean_absolute_error(y_teste, y_pred)\n",
    "mse = mean_squared_error(y_teste, y_pred)\n",
    "rmse = np.sqrt(mse)\n",
    "r2 = r2_score(y_teste, y_pred)\n",
    "\n",
    "print(f\"--- Métricas de Avaliação do Modelo ---\")\n",
    "print(f\"Erro Absoluto Médio (MAE): {mae:.2f} cliques\")\n",
    "print(f\"Erro Quadrático Médio (MSE): {mse:.2f}\")\n",
    "print(f\"Raiz do Erro Quadrático Médio (RMSE): {rmse:.2f} cliques\")\n",
    "print(f\"Coeficiente de Determinação (R²): {r2:.2f}\")\n",
    "\n",
    "# --- AVALIAÇÃO VISUAL ---\n",
    "plt.figure(figsize=(8, 6))\n",
    "sns.scatterplot(x=y_teste, y=y_pred)\n",
    "plt.xlabel(\"Valores Reais (y_teste)\")\n",
    "plt.ylabel(\"Valores Previstos (y_pred)\")\n",
    "plt.title(\"Valores Reais vs. Valores Previstos\", fontweight='bold')\n",
    "\n",
    "plt.plot([min(y_teste), max(y_teste)], [min(y_teste), max(y_teste)], color='red', linestyle='--')\n",
    "plt.grid(True)\n",
    "plt.show()"
   ]
  },
  {
   "cell_type": "markdown",
   "id": "a4749695",
   "metadata": {},
   "source": [
    "### Métricas de Avaliação do Modelo\n",
    "Erro Absoluto Médio (MAE - Mean Absolute Error) é a média da diferença absoluta entre os valores reais e os previstos. Sendo assim, nosso modelo erra em média apenas 14 cliques, o que é muito bom se compararmos com a quantidade de valores de treino.\n",
    "\n",
    "O Erro Quadrático Médio (MSE) é a média dos quadrados das diferenças. Ele penaliza erros maiores com mais força. É menos intuitivo porque a unidade está ao quadrado. Com isso, usamos o RMSE que é a raz quadrada do MSE, ou seja, a unidade volta a ser a original (ex: 'cliques'), tornando mais interpretável e similar ao MAE. A ideia é a mesma, e nosso modelo erra em média 18 cliques, o que continua excelente.\n",
    "\n",
    "\n",
    "Coeficiente de Determinação (R2 - R-squared) mede a proporção da variação na variável alvo y (cliques link interno) que pode ser explicada pelas features X (impressões e gasto). O valor vai de 0 a 1 (ou pode ser negativo para modelos muito ruins).\n",
    "\n",
    "**➥ Interpretação:** Um R2 de 0.85 significa que 85% da variação no número de cliques pode ser explicada pelo nosso modelo (usando gasto e impressões).\n",
    "\n",
    "### Análise Gráfica da Performance do Modelo\n",
    "A análise do gráfico de dispersão revela uma linearidade proeminente dos dados em relação à linha de referência tracejada. Essa observação indica um ajuste robusto do modelo, demonstrando sua eficácia na predição do valor alvo (y). A proximidade dos pontos de dados à linha de referência corrobora a alta performance preditiva do modelo atual.\n",
    "\n",
    "Com o objetivo de otimizar ainda mais a precisão das previsões, será implementado um modelo preditivo mais robusto. Essa etapa visa aprimorar os resultados obtidos e finalizar o experimento com uma solução otimizada."
   ]
  },
  {
   "cell_type": "code",
   "execution_count": null,
   "id": "704aa656",
   "metadata": {},
   "outputs": [
    {
     "name": "stdout",
     "output_type": "stream",
     "text": [
      "Modelo Random Forest treinado com sucesso!\n",
      "\n",
      "--- Métricas de Avaliação do Random Forest ---\n",
      "Erro Absoluto Médio (MAE): 14.85 cliques\n",
      "Coeficiente de Determinação (R²): 0.83\n"
     ]
    }
   ],
   "source": [
    "from sklearn.ensemble import RandomForestRegressor\n",
    "\n",
    "# --- TREINANDO O MODELO RANDOM FOREST ---\n",
    "rf_modelo = RandomForestRegressor(n_estimators=100, \n",
    "                                  random_state=42, \n",
    "                                  n_jobs=-1)\n",
    "\n",
    "rf_modelo.fit(X_treino, y_treino)\n",
    "print(\"Modelo Random Forest treinado com sucesso!\")\n",
    "\n",
    "# --- AVALIAÇÃO ---\n",
    "y_pred_rf = rf_modelo.predict(X_teste)\n",
    "\n",
    "r2_rf = r2_score(y_teste, y_pred_rf)\n",
    "mae_rf = mean_absolute_error(y_teste, y_pred_rf)\n",
    "\n",
    "print(f\"\\n--- Métricas de Avaliação do Random Forest ---\")\n",
    "print(f\"Erro Absoluto Médio (MAE): {mae_rf:.2f} cliques\")\n",
    "print(f\"Coeficiente de Determinação (R²): {r2_rf:.2f}\")"
   ]
  },
  {
   "cell_type": "markdown",
   "id": "a8d1d857",
   "metadata": {},
   "source": [
    "---\n",
    "\n",
    "### Avaliação do Modelo Random Forest e Implicações para a Campanha de Conversão\n",
    "\n",
    "A execução do modelo **Random Forest** para a campanha de conversão sugere uma **relação predominantemente linear** entre as variáveis **gasto/impressões** e o **número de cliques**.\n",
    "\n",
    "Verificou-se que a complexidade inerente ao algoritmo Random Forest não resultou em um ganho significativo no poder preditivo. Isso indica que a **Regressão Linear**, um modelo mais simples e com maior facilidade de interpretação, já se mostra **altamente eficaz e suficiente** para realizar as previsões nesta campanha específica. A escolha por um modelo mais parcimonioso, como a Regressão Linear, otimiza a interpretabilidade sem comprometer a acurácia para este cenário.\n",
    "\n",
    "---"
   ]
  },
  {
   "cell_type": "code",
   "execution_count": null,
   "id": "c08dfa80",
   "metadata": {},
   "outputs": [
    {
     "name": "stdout",
     "output_type": "stream",
     "text": [
      "\n",
      "--- Importância das Features ---\n",
      "      feature  importancia\n",
      "0       gasto      0.86051\n",
      "1  impressoes      0.13949\n"
     ]
    },
    {
     "data": {
      "image/png": "[encoded data removed]",
      "text/plain": [
       "<Figure size 640x480 with 1 Axes>"
      ]
     },
     "metadata": {},
     "output_type": "display_data"
    }
   ],
   "source": [
    "# importância de cada feature do modelo treinado\n",
    "importancias = rf_modelo.feature_importances_\n",
    "features = X_treino.columns\n",
    "\n",
    "# preparando DataFrame \n",
    "df_importancias = pd.DataFrame({'feature': features, 'importancia': importancias})\n",
    "df_importancias = df_importancias.sort_values('importancia', ascending=False)\n",
    "\n",
    "print(\"\\n--- Importância das Features ---\")\n",
    "print(df_importancias)\n",
    "\n",
    "# Plot\n",
    "ax = sns.barplot(x='importancia',\n",
    "                 y='feature', \n",
    "                 data=df_importancias, \n",
    "                 palette='viridis', \n",
    "                 hue='feature', \n",
    "                 legend=False)\n",
    "\n",
    "plt.title('Importância de Cada Feature para o Modelo')\n",
    "plt.ylabel('')\n",
    "plt.show()"
   ]
  },
  {
   "cell_type": "markdown",
   "id": "0cbabffb",
   "metadata": {},
   "source": [
    "Em uma **campanha de conversão**, como a de reservas, o algoritmo da Meta opera de forma mais sofisticada. Ele é projetado para identificar e alcançar usuários com alta probabilidade de realizar a ação desejada. Nesse cenário, o investimento (`gasto`) emerge como a alavanca principal para impulsionar os resultados.\n",
    "\n",
    "Com base nos dados analisados para esta campanha específica, comprovamos que o **investimento direto é, de fato, o motor principal para a geração de resultados**. Isso ocorre porque, quanto maior o investimento, mais o algoritmo da Meta consegue atuar dentro desse grupo seleto e qualificado de pessoas, gerando cliques de maior valor que se traduzem em conversões efetivas."
   ]
  },
  {
   "cell_type": "markdown",
   "id": "d66bf14e",
   "metadata": {},
   "source": [
    "## Preparação de Dados para Clusterização K-Means\n",
    "\n",
    "Para identificar **grupos naturais e ocultos** nos dados, será utilizada a técnica de **clusterização K-Means**.\n",
    "\n",
    "É crucial observar a disparidade significativa nas escalas das métricas. Por exemplo, a métrica de \"impressões\" pode apresentar valores na casa dos milhares (ex: 4000, 5000), enquanto o \"custo por clique (CPC)\" pode ter valores unitários (ex: 6, 10).\n",
    "\n",
    "Para mitigar essa diferença de magnitude e garantir que todas as *features* contribuam equitativamente para o processo de clusterização, será aplicado um **processo de *scaling***. Este pré-processamento padronizará as *features*, colocando-as em uma escala comparável antes da aplicação do algoritmo K-Means."
   ]
  },
  {
   "cell_type": "code",
   "execution_count": null,
   "id": "ac78076f",
   "metadata": {},
   "outputs": [
    {
     "name": "stdout",
     "output_type": "stream",
     "text": [
      "Dados originais (primeiras linhas):\n",
      "   gasto  impressoes  numero de cliques       cpc       ctr\n",
      "0  19.60        4508              122.0  0.110112  3.948536\n",
      "1  19.53        4532              140.0  0.102251  4.214475\n",
      "2  21.51        2829              157.0  0.119500  6.362672\n",
      "3  21.82        2681              130.0  0.143553  5.669526\n",
      "4  14.65        1751               51.0  0.164607  5.082810\n",
      "\n",
      "Dados escalados (primeiras linhas):\n",
      "      gasto  impressoes  numero de cliques       cpc       ctr\n",
      "0 -0.170138   -0.125449           0.439103 -0.613231  0.078124\n",
      "1 -0.177104   -0.120411           0.675578 -0.645482  0.196088\n",
      "2  0.019940   -0.477883           0.898914 -0.574716  1.148980\n",
      "3  0.050790   -0.508949           0.544203 -0.476037  0.841516\n",
      "4 -0.662750   -0.704162          -0.493656 -0.389661  0.581262\n"
     ]
    }
   ],
   "source": [
    "from sklearn.preprocessing import StandardScaler\n",
    "\n",
    "# --- CLUSTERIZAÇÃO COM K-MEANS ---\n",
    "features_para_cluster = ['gasto', 'impressoes', 'numero de cliques', 'cpc', 'ctr']\n",
    "df_cluster = df[features_para_cluster].dropna()\n",
    "\n",
    "# --- APLICAR O SCALING ---\n",
    "scaler = StandardScaler()\n",
    "\n",
    "dados_escalados = scaler.fit_transform(df_cluster)\n",
    "df_escalado = pd.DataFrame(dados_escalados, columns=features_para_cluster)\n",
    "\n",
    "print(\"Dados originais (primeiras linhas):\")\n",
    "print(df_cluster.head())\n",
    "print(\"\\nDados escalados (primeiras linhas):\")\n",
    "print(df_escalado.head())"
   ]
  }
 ],
 "metadata": {
  "kernelspec": {
   "display_name": ".venv",
   "language": "python",
   "name": "python3"
  },
  "language_info": {
   "codemirror_mode": {
    "name": "ipython",
    "version": 3
   },
   "file_extension": ".py",
   "mimetype": "text/x-python",
   "name": "python",
   "nbconvert_exporter": "python",
   "pygments_lexer": "ipython3",
   "version": "3.13.4"
  }
 },
 "nbformat": 4,
 "nbformat_minor": 5
}
